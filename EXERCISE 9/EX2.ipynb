{
  "nbformat": 4,
  "nbformat_minor": 0,
  "metadata": {
    "colab": {
      "name": "EX2.ipynb",
      "provenance": []
    },
    "kernelspec": {
      "name": "python3",
      "display_name": "Python 3"
    },
    "language_info": {
      "name": "python"
    }
  },
  "cells": [
    {
      "cell_type": "code",
      "execution_count": 1,
      "metadata": {
        "colab": {
          "base_uri": "https://localhost:8080/"
        },
        "id": "_RY59E5TjeN7",
        "outputId": "ec5e4da7-5b89-4abf-cb1e-5fd909fd2bce"
      },
      "outputs": [
        {
          "output_type": "stream",
          "name": "stdout",
          "text": [
            "Mounted at /content/gdrive\n"
          ]
        }
      ],
      "source": [
        "from google.colab import drive\n",
        "drive.mount('/content/gdrive')"
      ]
    },
    {
      "cell_type": "code",
      "source": [
        "!unzip gdrive/My\\ Drive/Data/Data.zip > /dev/null"
      ],
      "metadata": {
        "id": "waIZ_s2akTtx"
      },
      "execution_count": 2,
      "outputs": []
    },
    {
      "cell_type": "code",
      "source": [
        "from PIL import Image\n",
        "from numpy import asarray\n",
        "import numpy as np"
      ],
      "metadata": {
        "id": "O0ioO4ttkcbn"
      },
      "execution_count": 3,
      "outputs": []
    },
    {
      "cell_type": "code",
      "source": [
        "image = Image.open('EX2.png')"
      ],
      "metadata": {
        "id": "mHL95_09kfG8"
      },
      "execution_count": 4,
      "outputs": []
    },
    {
      "cell_type": "code",
      "source": [
        "data = asarray(image)"
      ],
      "metadata": {
        "id": "XcHydcrpkhyl"
      },
      "execution_count": 5,
      "outputs": []
    },
    {
      "cell_type": "code",
      "source": [
        "data"
      ],
      "metadata": {
        "id": "6X067Ec4kkTQ",
        "outputId": "c676e406-7348-4f03-9149-aaa366c10016",
        "colab": {
          "base_uri": "https://localhost:8080/"
        }
      },
      "execution_count": 6,
      "outputs": [
        {
          "output_type": "execute_result",
          "data": {
            "text/plain": [
              "array([[[ 10,  10,  12],\n",
              "        [ 10,  10,  12],\n",
              "        [ 10,  10,  12],\n",
              "        ...,\n",
              "        [ 13,  14,  18],\n",
              "        [ 13,  14,  18],\n",
              "        [ 13,  14,  18]],\n",
              "\n",
              "       [[ 10,  10,  12],\n",
              "        [ 10,  10,  12],\n",
              "        [ 10,  10,  12],\n",
              "        ...,\n",
              "        [ 13,  14,  18],\n",
              "        [ 13,  14,  18],\n",
              "        [ 13,  14,  18]],\n",
              "\n",
              "       [[  9,   9,  11],\n",
              "        [  9,   9,  11],\n",
              "        [  9,   9,  11],\n",
              "        ...,\n",
              "        [ 13,  14,  18],\n",
              "        [ 13,  14,  18],\n",
              "        [ 13,  14,  18]],\n",
              "\n",
              "       ...,\n",
              "\n",
              "       [[ 12,  15,  22],\n",
              "        [ 12,  15,  22],\n",
              "        [ 12,  15,  22],\n",
              "        ...,\n",
              "        [ 29,  61,  86],\n",
              "        [ 24,  56,  81],\n",
              "        [ 23,  55,  80]],\n",
              "\n",
              "       [[ 13,  16,  23],\n",
              "        [ 13,  16,  23],\n",
              "        [ 12,  15,  22],\n",
              "        ...,\n",
              "        [ 39,  71,  96],\n",
              "        [ 28,  60,  85],\n",
              "        [ 22,  54,  79]],\n",
              "\n",
              "       [[ 13,  16,  23],\n",
              "        [ 13,  16,  23],\n",
              "        [ 12,  15,  22],\n",
              "        ...,\n",
              "        [ 51,  83, 108],\n",
              "        [ 38,  70,  95],\n",
              "        [ 30,  62,  87]]], dtype=uint8)"
            ]
          },
          "metadata": {},
          "execution_count": 6
        }
      ]
    },
    {
      "cell_type": "code",
      "source": [
        "with open('EX2.txt', 'w') as file:\n",
        "        for item in data:\n",
        "            np.savetxt(file, item)"
      ],
      "metadata": {
        "id": "hf9Ayz06WCtB"
      },
      "execution_count": 7,
      "outputs": []
    }
  ]
}