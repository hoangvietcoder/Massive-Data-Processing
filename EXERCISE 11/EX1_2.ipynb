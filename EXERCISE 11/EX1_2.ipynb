{
  "nbformat": 4,
  "nbformat_minor": 0,
  "metadata": {
    "colab": {
      "name": "EX1_2.ipynb",
      "provenance": []
    },
    "kernelspec": {
      "name": "python3",
      "display_name": "Python 3"
    },
    "language_info": {
      "name": "python"
    }
  },
  "cells": [
    {
      "cell_type": "markdown",
      "source": [
        "### **EX1**\n",
        "\n",
        "\n",
        "\n"
      ],
      "metadata": {
        "id": "PpL-hBIxPI3Y"
      }
    },
    {
      "cell_type": "code",
      "execution_count": 3,
      "metadata": {
        "id": "AV-6txi0DT4N"
      },
      "outputs": [],
      "source": [
        "# Import Libraries\n",
        "import numpy as np\n",
        "import matplotlib.pyplot as plt"
      ]
    },
    {
      "cell_type": "code",
      "source": [
        "# Defining attributes\n",
        "input = np.array([[2.5 ,2.4],[0.5, 0.7],[2.2 ,2.9],[1.9 ,2.2],[3.1 ,3.0],[2.3 ,2.7],[2 ,1.6],[1 ,1.1],[1.5, 1.6],[1.1 ,0.9]])\n",
        "input"
      ],
      "metadata": {
        "id": "xnmeYu44D200",
        "colab": {
          "base_uri": "https://localhost:8080/"
        },
        "outputId": "b0347fbf-60a6-48eb-8e93-2a7bf8f47902"
      },
      "execution_count": 4,
      "outputs": [
        {
          "output_type": "execute_result",
          "data": {
            "text/plain": [
              "array([[2.5, 2.4],\n",
              "       [0.5, 0.7],\n",
              "       [2.2, 2.9],\n",
              "       [1.9, 2.2],\n",
              "       [3.1, 3. ],\n",
              "       [2.3, 2.7],\n",
              "       [2. , 1.6],\n",
              "       [1. , 1.1],\n",
              "       [1.5, 1.6],\n",
              "       [1.1, 0.9]])"
            ]
          },
          "metadata": {},
          "execution_count": 4
        }
      ]
    },
    {
      "cell_type": "code",
      "source": [
        "# Average each dimension x, y\n",
        "average=np.mean(input,axis=0)\n",
        "print(average)"
      ],
      "metadata": {
        "colab": {
          "base_uri": "https://localhost:8080/"
        },
        "id": "9W0C-ZboJTue",
        "outputId": "d3bc3bd4-f10c-495c-cf70-fe753bd22f8d"
      },
      "execution_count": 5,
      "outputs": [
        {
          "output_type": "stream",
          "name": "stdout",
          "text": [
            "[1.81 1.91]\n"
          ]
        }
      ]
    },
    {
      "cell_type": "code",
      "source": [
        "# Plotting Attributes in 2D plane\n",
        "plt.title(\"Original dataset\")\n",
        "plt.scatter(input[:,0], input[:,1])"
      ],
      "metadata": {
        "colab": {
          "base_uri": "https://localhost:8080/",
          "height": 298
        },
        "id": "5yC1Nz7bFJDK",
        "outputId": "f2f1e550-27d2-45a5-f756-12b1d9191529"
      },
      "execution_count": 6,
      "outputs": [
        {
          "output_type": "execute_result",
          "data": {
            "text/plain": [
              "<matplotlib.collections.PathCollection at 0x7fbba026b6d0>"
            ]
          },
          "metadata": {},
          "execution_count": 6
        },
        {
          "output_type": "display_data",
          "data": {
            "text/plain": [
              "<Figure size 432x288 with 1 Axes>"
            ],
            "image/png": "[encoded data removed]"
          },
          "metadata": {
            "needs_background": "light"
          }
        }
      ]
    },
    {
      "cell_type": "code",
      "source": [
        "# Standardization Of Data\n",
        "adjusted_input = input - np.mean(input, axis=0)\n",
        "adjusted_input"
      ],
      "metadata": {
        "colab": {
          "base_uri": "https://localhost:8080/"
        },
        "id": "Xfh_Wur3H0d5",
        "outputId": "fb8a1d40-7336-4822-c7fa-f98408afbf2e"
      },
      "execution_count": 7,
      "outputs": [
        {
          "output_type": "execute_result",
          "data": {
            "text/plain": [
              "array([[ 0.69,  0.49],\n",
              "       [-1.31, -1.21],\n",
              "       [ 0.39,  0.99],\n",
              "       [ 0.09,  0.29],\n",
              "       [ 1.29,  1.09],\n",
              "       [ 0.49,  0.79],\n",
              "       [ 0.19, -0.31],\n",
              "       [-0.81, -0.81],\n",
              "       [-0.31, -0.31],\n",
              "       [-0.71, -1.01]])"
            ]
          },
          "metadata": {},
          "execution_count": 7
        }
      ]
    },
    {
      "cell_type": "code",
      "source": [
        "# Find the covariance matrix\n",
        "cov = np.cov(adjusted_input[:,0], adjusted_input[:,1])\n",
        "cov"
      ],
      "metadata": {
        "colab": {
          "base_uri": "https://localhost:8080/"
        },
        "id": "UWhs-rX5INqI",
        "outputId": "473e24dc-f3d1-439e-ba59-09fa6f67ea0b"
      },
      "execution_count": 8,
      "outputs": [
        {
          "output_type": "execute_result",
          "data": {
            "text/plain": [
              "array([[0.61655556, 0.61544444],\n",
              "       [0.61544444, 0.71655556]])"
            ]
          },
          "metadata": {},
          "execution_count": 8
        }
      ]
    },
    {
      "cell_type": "code",
      "source": [
        "# Calculate the eigenvectors and eigenvalues of the covariance matrix\n",
        "from numpy import linalg as LA\n",
        "w, v = LA.eig(cov)\n",
        "print(\"Eigen Value: \", w)\n",
        "print(\"Eigen Vector\")\n",
        "print(v)"
      ],
      "metadata": {
        "colab": {
          "base_uri": "https://localhost:8080/"
        },
        "id": "xaYV0tXCITWf",
        "outputId": "37741ada-1217-4b6f-bdb8-cc4e219bc594"
      },
      "execution_count": 9,
      "outputs": [
        {
          "output_type": "stream",
          "name": "stdout",
          "text": [
            "Eigen Value:  [0.0490834  1.28402771]\n",
            "Eigen Vector\n",
            "[[-0.73517866 -0.6778734 ]\n",
            " [ 0.6778734  -0.73517866]]\n"
          ]
        }
      ]
    },
    {
      "cell_type": "code",
      "source": [
        "eigen_input = np.dot(adjusted_input, np.array(v.T[1]))\n",
        "print(eigen_input.reshape(10,1))"
      ],
      "metadata": {
        "colab": {
          "base_uri": "https://localhost:8080/"
        },
        "id": "RDpeYmAtPjeY",
        "outputId": "8d384635-f56c-4aff-88c6-db13a338988c"
      },
      "execution_count": 11,
      "outputs": [
        {
          "output_type": "stream",
          "name": "stdout",
          "text": [
            "[[-0.82797019]\n",
            " [ 1.77758033]\n",
            " [-0.99219749]\n",
            " [-0.27421042]\n",
            " [-1.67580142]\n",
            " [-0.9129491 ]\n",
            " [ 0.09910944]\n",
            " [ 1.14457216]\n",
            " [ 0.43804614]\n",
            " [ 1.22382056]]\n"
          ]
        }
      ]
    },
    {
      "cell_type": "markdown",
      "source": [
        "### **EX2**"
      ],
      "metadata": {
        "id": "HH7NCB-pPUyC"
      }
    },
    {
      "cell_type": "code",
      "source": [
        "# Use PCA library\n",
        "from sklearn.decomposition import PCA\n",
        "pca = PCA(n_components=1)\n",
        "pca.fit(input)\n",
        "print(pca.transform(input))  "
      ],
      "metadata": {
        "colab": {
          "base_uri": "https://localhost:8080/"
        },
        "id": "FriJNFOlPybs",
        "outputId": "577aec85-5b6a-4ddc-845e-f2d7d900eed1"
      },
      "execution_count": 12,
      "outputs": [
        {
          "output_type": "stream",
          "name": "stdout",
          "text": [
            "[[-0.82797019]\n",
            " [ 1.77758033]\n",
            " [-0.99219749]\n",
            " [-0.27421042]\n",
            " [-1.67580142]\n",
            " [-0.9129491 ]\n",
            " [ 0.09910944]\n",
            " [ 1.14457216]\n",
            " [ 0.43804614]\n",
            " [ 1.22382056]]\n"
          ]
        }
      ]
    }
  ]
}