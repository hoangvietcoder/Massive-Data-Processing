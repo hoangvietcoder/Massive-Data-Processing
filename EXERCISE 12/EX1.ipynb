{
  "nbformat": 4,
  "nbformat_minor": 0,
  "metadata": {
    "colab": {
      "name": "EX1.ipynb",
      "provenance": []
    },
    "kernelspec": {
      "name": "python3",
      "display_name": "Python 3"
    },
    "language_info": {
      "name": "python"
    }
  },
  "cells": [
    {
      "cell_type": "code",
      "execution_count": 19,
      "metadata": {
        "id": "euzfWiyeWy1I"
      },
      "outputs": [],
      "source": [
        "# importing libraries\n",
        "import pandas as pd\n",
        "from sklearn.feature_extraction.text import TfidfVectorizer\n",
        "from sklearn.metrics.pairwise import linear_kernel\n",
        "\n",
        "pd.set_option(\"expand_frame_repr\", True)"
      ]
    },
    {
      "cell_type": "code",
      "source": [
        "# Load dataset\n",
        "data = pd.read_csv(r\"student_marks.csv\")\n",
        "print(data.head())"
      ],
      "metadata": {
        "colab": {
          "base_uri": "https://localhost:8080/"
        },
        "id": "IFEs-hyJXJDq",
        "outputId": "641c73fc-2727-44c6-9f40-e1e9ceea2207"
      },
      "execution_count": 20,
      "outputs": [
        {
          "output_type": "stream",
          "name": "stdout",
          "text": [
            "  Unnamed: 0 Gender        DOB  Maths  Physics  Chemistry  English  Biology  \\\n",
            "0       John      M      32267     55       45         56       87       21   \n",
            "1     Suresh      M      31872     75       55         70       64       90   \n",
            "2     Ramesh      M  25/5/1989     25       54         89       76       95   \n",
            "3    Jessica      F      33215     78       55         86       63       54   \n",
            "4   Jennifer      F      32548     58       96         78       46       96   \n",
            "\n",
            "   Economics  History  Civics  \n",
            "0         52       89      65  \n",
            "1         61       58       2  \n",
            "2         87       56      74  \n",
            "3         89       75      45  \n",
            "4         77       83      53  \n"
          ]
        }
      ]
    },
    {
      "cell_type": "code",
      "source": [
        "descriptions =data['Gender'] + ' ' + data['DOB'] + ' ' + data['Maths'].apply(str) + ' ' + data['Physics'].apply(str) + data['Chemistry'].apply(str) + ' ' + data['English'].apply(str) + ' ' + data['Biology'].apply(str) + ' ' + data['Economics'].apply(str) + ' ' + data['History'].apply(str) + ' ' + data['Civics'].apply(str)\n",
        "\n",
        "# Printing the first description\n",
        "print(descriptions[0])"
      ],
      "metadata": {
        "colab": {
          "base_uri": "https://localhost:8080/"
        },
        "id": "2F_6sUTLYDHj",
        "outputId": "8c1b32ea-d67c-405a-84b5-5c7057940ce9"
      },
      "execution_count": 25,
      "outputs": [
        {
          "output_type": "stream",
          "name": "stdout",
          "text": [
            "M 32267 55 4556 87 21 52 89 65\n"
          ]
        }
      ]
    },
    {
      "cell_type": "code",
      "source": [
        "def create_similarity_matrix(new_description, overall_descriptions):\n",
        "\n",
        "  # Append the new description to the overall set.\n",
        "  overall_descriptions.append(new_description)\n",
        "  \n",
        "  # Define a tfidf vectorizer and remove all stopwords.\n",
        "  tfidf = TfidfVectorizer(stop_words=\"english\")\n",
        "\n",
        "  # Convert tfidf matrix by fitting and transforming the data.\n",
        "  tfidf_matrix = tfidf.fit_transform(overall_descriptions)\n",
        "\n",
        "  # Output the shape of the matrix.\n",
        "  tfidf_matrix.shape\n",
        "\n",
        "  # Calculating the cosine similarity matrix.\n",
        "  cosine_sim = linear_kernel(tfidf_matrix,tfidf_matrix)\n",
        "  return cosine_sim"
      ],
      "metadata": {
        "id": "XOaMHK5jYLHG"
      },
      "execution_count": 26,
      "outputs": []
    },
    {
      "cell_type": "code",
      "source": [
        "def get_recommendations(new_description,overall_descriptions):\n",
        "\n",
        "  # create the similarity matrix\n",
        "  cosine_sim = create_similarity_matrix(new_description,overall_descriptions)\n",
        "\n",
        "  # Get pairwise similarity scores of all the students with new student.\n",
        "  sim_scores = list(enumerate(cosine_sim[-1]))\n",
        "\n",
        "  # Sort the descriptions based on similarity score.\n",
        "  sim_scores = sorted(sim_scores,key =lambda x:x[1],reverse= True )\n",
        "\n",
        "  # Get the scores of top 10 descriptions.\n",
        "  sim_scores = sim_scores[1:10]\n",
        "  \n",
        "  # Get the student indices.\n",
        "  indices = [i[0]for i in sim_scores]\n",
        "  return data.iloc[indices]"
      ],
      "metadata": {
        "id": "2VDNTQjwY4ul"
      },
      "execution_count": 27,
      "outputs": []
    },
    {
      "cell_type": "code",
      "source": [
        "new_description = pd.Series('M 32267 55 4556 87 21 52 89 65')\n",
        "get_recommendations(new_description,descriptions)"
      ],
      "metadata": {
        "colab": {
          "base_uri": "https://localhost:8080/",
          "height": 175
        },
        "id": "E7Gdk666ZiiA",
        "outputId": "c563ca77-f6fc-4cc3-8c6e-64d75963dc25"
      },
      "execution_count": 28,
      "outputs": [
        {
          "output_type": "execute_result",
          "data": {
            "text/plain": [
              "  Unnamed: 0 Gender        DOB  Maths  Physics  Chemistry  English  Biology  \\\n",
              "1     Suresh      M      31872     75       55         70       64       90   \n",
              "0       John      M      32267     55       45         56       87       21   \n",
              "2     Ramesh      M  25/5/1989     25       54         89       76       95   \n",
              "3    Jessica      F      33215     78       55         86       63       54   \n",
              "\n",
              "   Economics  History  Civics  \n",
              "1         61       58       2  \n",
              "0         52       89      65  \n",
              "2         87       56      74  \n",
              "3         89       75      45  "
            ],
            "text/html": [
              "\n",
              "  <div id=\"df-376b4e50-7fd7-4230-9f81-f987cfdf78bc\">\n",
              "    <div class=\"colab-df-container\">\n",
              "      <div>\n",
              "<style scoped>\n",
              "    .dataframe tbody tr th:only-of-type {\n",
              "        vertical-align: middle;\n",
              "    }\n",
              "\n",
              "    .dataframe tbody tr th {\n",
              "        vertical-align: top;\n",
              "    }\n",
              "\n",
              "    .dataframe thead th {\n",
              "        text-align: right;\n",
              "    }\n",
              "</style>\n",
              "<table border=\"1\" class=\"dataframe\">\n",
              "  <thead>\n",
              "    <tr style=\"text-align: right;\">\n",
              "      <th></th>\n",
              "      <th>Unnamed: 0</th>\n",
              "      <th>Gender</th>\n",
              "      <th>DOB</th>\n",
              "      <th>Maths</th>\n",
              "      <th>Physics</th>\n",
              "      <th>Chemistry</th>\n",
              "      <th>English</th>\n",
              "      <th>Biology</th>\n",
              "      <th>Economics</th>\n",
              "      <th>History</th>\n",
              "      <th>Civics</th>\n",
              "    </tr>\n",
              "  </thead>\n",
              "  <tbody>\n",
              "    <tr>\n",
              "      <th>1</th>\n",
              "      <td>Suresh</td>\n",
              "      <td>M</td>\n",
              "      <td>31872</td>\n",
              "      <td>75</td>\n",
              "      <td>55</td>\n",
              "      <td>70</td>\n",
              "      <td>64</td>\n",
              "      <td>90</td>\n",
              "      <td>61</td>\n",
              "      <td>58</td>\n",
              "      <td>2</td>\n",
              "    </tr>\n",
              "    <tr>\n",
              "      <th>0</th>\n",
              "      <td>John</td>\n",
              "      <td>M</td>\n",
              "      <td>32267</td>\n",
              "      <td>55</td>\n",
              "      <td>45</td>\n",
              "      <td>56</td>\n",
              "      <td>87</td>\n",
              "      <td>21</td>\n",
              "      <td>52</td>\n",
              "      <td>89</td>\n",
              "      <td>65</td>\n",
              "    </tr>\n",
              "    <tr>\n",
              "      <th>2</th>\n",
              "      <td>Ramesh</td>\n",
              "      <td>M</td>\n",
              "      <td>25/5/1989</td>\n",
              "      <td>25</td>\n",
              "      <td>54</td>\n",
              "      <td>89</td>\n",
              "      <td>76</td>\n",
              "      <td>95</td>\n",
              "      <td>87</td>\n",
              "      <td>56</td>\n",
              "      <td>74</td>\n",
              "    </tr>\n",
              "    <tr>\n",
              "      <th>3</th>\n",
              "      <td>Jessica</td>\n",
              "      <td>F</td>\n",
              "      <td>33215</td>\n",
              "      <td>78</td>\n",
              "      <td>55</td>\n",
              "      <td>86</td>\n",
              "      <td>63</td>\n",
              "      <td>54</td>\n",
              "      <td>89</td>\n",
              "      <td>75</td>\n",
              "      <td>45</td>\n",
              "    </tr>\n",
              "  </tbody>\n",
              "</table>\n",
              "</div>\n",
              "      <button class=\"colab-df-convert\" onclick=\"convertToInteractive('df-376b4e50-7fd7-4230-9f81-f987cfdf78bc')\"\n",
              "              title=\"Convert this dataframe to an interactive table.\"\n",
              "              style=\"display:none;\">\n",
              "        \n",
              "  <svg xmlns=\"http://www.w3.org/2000/svg\" height=\"24px\"viewBox=\"0 0 24 24\"\n",
              "       width=\"24px\">\n",
              "    <path d=\"M0 0h24v24H0V0z\" fill=\"none\"/>\n",
              "    <path d=\"M18.56 5.44l.94 2.06.94-2.06 2.06-.94-2.06-.94-.94-2.06-.94 2.06-2.06.94zm-11 1L8.5 8.5l.94-2.06 2.06-.94-2.06-.94L8.5 2.5l-.94 2.06-2.06.94zm10 10l.94 2.06.94-2.06 2.06-.94-2.06-.94-.94-2.06-.94 2.06-2.06.94z\"/><path d=\"M17.41 7.96l-1.37-1.37c-.4-.4-.92-.59-1.43-.59-.52 0-1.04.2-1.43.59L10.3 9.45l-7.72 7.72c-.78.78-.78 2.05 0 2.83L4 21.41c.39.39.9.59 1.41.59.51 0 1.02-.2 1.41-.59l7.78-7.78 2.81-2.81c.8-.78.8-2.07 0-2.86zM5.41 20L4 18.59l7.72-7.72 1.47 1.35L5.41 20z\"/>\n",
              "  </svg>\n",
              "      </button>\n",
              "      \n",
              "  <style>\n",
              "    .colab-df-container {\n",
              "      display:flex;\n",
              "      flex-wrap:wrap;\n",
              "      gap: 12px;\n",
              "    }\n",
              "\n",
              "    .colab-df-convert {\n",
              "      background-color: #E8F0FE;\n",
              "      border: none;\n",
              "      border-radius: 50%;\n",
              "      cursor: pointer;\n",
              "      display: none;\n",
              "      fill: #1967D2;\n",
              "      height: 32px;\n",
              "      padding: 0 0 0 0;\n",
              "      width: 32px;\n",
              "    }\n",
              "\n",
              "    .colab-df-convert:hover {\n",
              "      background-color: #E2EBFA;\n",
              "      box-shadow: 0px 1px 2px rgba(60, 64, 67, 0.3), 0px 1px 3px 1px rgba(60, 64, 67, 0.15);\n",
              "      fill: #174EA6;\n",
              "    }\n",
              "\n",
              "    [theme=dark] .colab-df-convert {\n",
              "      background-color: #3B4455;\n",
              "      fill: #D2E3FC;\n",
              "    }\n",
              "\n",
              "    [theme=dark] .colab-df-convert:hover {\n",
              "      background-color: #434B5C;\n",
              "      box-shadow: 0px 1px 3px 1px rgba(0, 0, 0, 0.15);\n",
              "      filter: drop-shadow(0px 1px 2px rgba(0, 0, 0, 0.3));\n",
              "      fill: #FFFFFF;\n",
              "    }\n",
              "  </style>\n",
              "\n",
              "      <script>\n",
              "        const buttonEl =\n",
              "          document.querySelector('#df-376b4e50-7fd7-4230-9f81-f987cfdf78bc button.colab-df-convert');\n",
              "        buttonEl.style.display =\n",
              "          google.colab.kernel.accessAllowed ? 'block' : 'none';\n",
              "\n",
              "        async function convertToInteractive(key) {\n",
              "          const element = document.querySelector('#df-376b4e50-7fd7-4230-9f81-f987cfdf78bc');\n",
              "          const dataTable =\n",
              "            await google.colab.kernel.invokeFunction('convertToInteractive',\n",
              "                                                     [key], {});\n",
              "          if (!dataTable) return;\n",
              "\n",
              "          const docLinkHtml = 'Like what you see? Visit the ' +\n",
              "            '<a target=\"_blank\" href=https://colab.research.google.com/notebooks/data_table.ipynb>data table notebook</a>'\n",
              "            + ' to learn more about interactive tables.';\n",
              "          element.innerHTML = '';\n",
              "          dataTable['output_type'] = 'display_data';\n",
              "          await google.colab.output.renderOutput(dataTable, element);\n",
              "          const docLink = document.createElement('div');\n",
              "          docLink.innerHTML = docLinkHtml;\n",
              "          element.appendChild(docLink);\n",
              "        }\n",
              "      </script>\n",
              "    </div>\n",
              "  </div>\n",
              "  "
            ]
          },
          "metadata": {},
          "execution_count": 28
        }
      ]
    }
  ]
}