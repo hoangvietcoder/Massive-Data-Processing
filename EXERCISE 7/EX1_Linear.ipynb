{
  "nbformat": 4,
  "nbformat_minor": 0,
  "metadata": {
    "colab": {
      "name": "EX1_Linear.ipynb",
      "provenance": [],
      "collapsed_sections": []
    },
    "kernelspec": {
      "name": "python3",
      "display_name": "Python 3"
    },
    "language_info": {
      "name": "python"
    }
  },
  "cells": [
    {
      "cell_type": "code",
      "execution_count": 1,
      "metadata": {
        "id": "IoDW8Tmheg1_"
      },
      "outputs": [],
      "source": [
        "# Function to display hashtable\n",
        "def display_hash(hashTable):\n",
        "    for i in range(len(hashTable)):\n",
        "        print(i, end=\" \")\n",
        "\n",
        "        for j in hashTable[i]:\n",
        "            print(\"-->\", end=\" \")\n",
        "            print(j, end=\" \")\n",
        "\n",
        "        print()\n",
        "\n"
      ]
    },
    {
      "cell_type": "code",
      "source": [
        "# Creating Hashtable as a nested list.\n",
        "HashTable = [[] for _ in range(13)]"
      ],
      "metadata": {
        "id": "PT0Fx5EaejwA"
      },
      "execution_count": 2,
      "outputs": []
    },
    {
      "cell_type": "code",
      "source": [
        "# hashing function to return key for every value.\n",
        "def hashing(keyvalue):\n",
        "    return keyvalue % len(HashTable)"
      ],
      "metadata": {
        "id": "ZNnSU5UNekb0"
      },
      "execution_count": 3,
      "outputs": []
    },
    {
      "cell_type": "code",
      "source": [
        "# Insert\n",
        "def insert(Hashtable, value):\n",
        "    hash_key = hashing(value)\n",
        "    i = hash_key\n",
        "    M = len(Hashtable)\n",
        "    if Hashtable[hash_key]:\n",
        "        while Hashtable[hash_key]:\n",
        "            if i > M:\n",
        "                i = i - M\n",
        "            hash_key = (hashing(value) + i) % M\n",
        "            i += 1\n",
        "    Hashtable[hash_key].append(value)"
      ],
      "metadata": {
        "id": "0NYWdeC1en8H"
      },
      "execution_count": 4,
      "outputs": []
    },
    {
      "cell_type": "code",
      "source": [
        "# Remove\n",
        "def remove(Hashtable, value):\n",
        "    hash_key = hashing(value)\n",
        "    Hashtable[hash_key].remove(value)"
      ],
      "metadata": {
        "id": "VcG48eEaepaQ"
      },
      "execution_count": 5,
      "outputs": []
    },
    {
      "cell_type": "code",
      "source": [
        "# Search\n",
        "def search(Hashtable, value):\n",
        "    for i in range(len(Hashtable)):\n",
        "        for j in Hashtable[i]:\n",
        "            if j == value:\n",
        "                return i\n",
        "    return \"Not exist index with value\""
      ],
      "metadata": {
        "id": "ODS1KZTMeqC5"
      },
      "execution_count": 6,
      "outputs": []
    },
    {
      "cell_type": "code",
      "source": [
        "# Driver Code\n",
        "insert(HashTable, 18)\n",
        "insert(HashTable, 41)\n",
        "insert(HashTable, 22)\n",
        "insert(HashTable, 44)\n",
        "insert(HashTable, 59)\n",
        "insert(HashTable, 32)\n",
        "insert(HashTable, 31)\n",
        "insert(HashTable, 73)\n",
        "insert(HashTable, 57)\n",
        "\n",
        "display_hash(HashTable)"
      ],
      "metadata": {
        "colab": {
          "base_uri": "https://localhost:8080/"
        },
        "id": "VtVGAEuUetMB",
        "outputId": "e5bda818-569d-44a4-b5c3-e2a52d8caaab"
      },
      "execution_count": 7,
      "outputs": [
        {
          "output_type": "stream",
          "name": "stdout",
          "text": [
            "0 \n",
            "1 \n",
            "2 --> 41 \n",
            "3 \n",
            "4 \n",
            "5 --> 18 \n",
            "6 --> 32 \n",
            "7 --> 59 \n",
            "8 --> 73 \n",
            "9 --> 22 \n",
            "10 --> 44 \n",
            "11 --> 31 \n",
            "12 --> 57 \n"
          ]
        }
      ]
    }
  ]
}