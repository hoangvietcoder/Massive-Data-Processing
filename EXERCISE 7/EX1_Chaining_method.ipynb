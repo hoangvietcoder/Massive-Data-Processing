{
  "nbformat": 4,
  "nbformat_minor": 0,
  "metadata": {
    "colab": {
      "name": "EX1_Chaining_method.ipynb",
      "provenance": [],
      "collapsed_sections": []
    },
    "kernelspec": {
      "name": "python3",
      "display_name": "Python 3"
    },
    "language_info": {
      "name": "python"
    }
  },
  "cells": [
    {
      "cell_type": "code",
      "execution_count": 1,
      "metadata": {
        "id": "rh_hvU59cmQT"
      },
      "outputs": [],
      "source": [
        "# Function to display hashtable\n",
        "def display_hash(hashTable):\n",
        "\tfor i in range(len(hashTable)):\n",
        "\t\tprint(i, end = \" \")\n",
        "\t\t\n",
        "\t\tfor j in hashTable[i]:\n",
        "\t\t\tprint(\"-->\", end = \" \")\n",
        "\t\t\tprint(j, end = \" \")\n",
        "\t\t\t\n",
        "\t\tprint()"
      ]
    },
    {
      "cell_type": "code",
      "source": [
        "# Creating Hashtable as a nested list.\n",
        "HashTable = [[] for _ in range(13)]"
      ],
      "metadata": {
        "id": "CKr70X6hcrid"
      },
      "execution_count": 2,
      "outputs": []
    },
    {
      "cell_type": "code",
      "source": [
        "# hashing Function to return key for every value.\n",
        "def hashing(keyvalue):\n",
        "\treturn keyvalue % len(HashTable)"
      ],
      "metadata": {
        "id": "VIC4UUjNcuzl"
      },
      "execution_count": 3,
      "outputs": []
    },
    {
      "cell_type": "code",
      "source": [
        "# Insert \n",
        "def insert(Hashtable, value):\n",
        "\thash_key = hashing(value)\n",
        "\tHashtable[hash_key].append(value)"
      ],
      "metadata": {
        "id": "CpV0zDowcwW8"
      },
      "execution_count": 4,
      "outputs": []
    },
    {
      "cell_type": "code",
      "source": [
        "# Remove\n",
        "def remove(Hashtable, value):\n",
        "    hash_key = hashing(value)\n",
        "    Hashtable[hash_key].remove(value)"
      ],
      "metadata": {
        "id": "7vGXL7YVcy7i"
      },
      "execution_count": 5,
      "outputs": []
    },
    {
      "cell_type": "code",
      "source": [
        "# Search\n",
        "def search(Hashtable, value):\n",
        "    for i in range(len(Hashtable)):\n",
        "        for j in Hashtable[i]:\n",
        "            if j == value:\n",
        "                return i\n",
        "    return \"Not exist index with value\""
      ],
      "metadata": {
        "id": "iVQVhMtvc0Vy"
      },
      "execution_count": 6,
      "outputs": []
    },
    {
      "cell_type": "code",
      "source": [
        "# Driver Code\n",
        "insert(HashTable, 18)\n",
        "insert(HashTable, 41)\n",
        "insert(HashTable, 22)\n",
        "insert(HashTable, 44)\n",
        "insert(HashTable, 59)\n",
        "insert(HashTable, 32)\n",
        "insert(HashTable, 31)\n",
        "insert(HashTable, 73)\n",
        "insert(HashTable, 57)\n",
        "display_hash (HashTable)"
      ],
      "metadata": {
        "colab": {
          "base_uri": "https://localhost:8080/"
        },
        "id": "ngGL9Tdkc1ps",
        "outputId": "37701cb4-60fb-4f13-b436-9367e076c540"
      },
      "execution_count": 7,
      "outputs": [
        {
          "output_type": "stream",
          "name": "stdout",
          "text": [
            "0 \n",
            "1 \n",
            "2 --> 41 \n",
            "3 \n",
            "4 \n",
            "5 --> 18 --> 44 --> 31 --> 57 \n",
            "6 --> 32 \n",
            "7 --> 59 \n",
            "8 --> 73 \n",
            "9 --> 22 \n",
            "10 \n",
            "11 \n",
            "12 \n"
          ]
        }
      ]
    }
  ]
}